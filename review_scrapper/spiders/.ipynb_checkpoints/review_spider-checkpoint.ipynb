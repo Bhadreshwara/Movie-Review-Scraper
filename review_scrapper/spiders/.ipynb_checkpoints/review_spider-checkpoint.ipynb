{
 "cells": [
  {
   "cell_type": "code",
   "execution_count": 6,
   "metadata": {},
   "outputs": [],
   "source": [
    "import scrapy\n",
    "import urllib.parse as urlparse\n"
   ]
  },
  {
   "cell_type": "code",
   "execution_count": 7,
   "metadata": {},
   "outputs": [],
   "source": [
    "class ReviewSpider(scrapy.Spider):\n",
    "    name = 'review_spider'\n",
    "    def start_requests(self):\n",
    "        urls = [\n",
    "            'https://www.imdb.com/title/tt4154796/reviews?ref_=tt_urv',\n",
    "            'https://www.imdb.com/title/tt4154796/reviews/_ajax?ref_=undefined&paginationKey=46nfomhqi3gzbjjjx4gf7uh577btckim3ucvflquh4exniquzjshjuqy3tclm5dglxwndc7fi7zyo',\n",
    "            'https://www.imdb.com/title/tt4154796/reviews/_ajax?ref_=undefined&paginationKey=hbie42yiji5bvkp2gfozn3hrxtyge4jowc5m2yoev5xhgk2v4a7zhimn7h5zkr34stuhqnqbyprdi',\n",
    "            'https://www.imdb.com/title/tt4154796/reviews/_ajax?ref_=undefined&paginationKey=a62drqxeah4ym27z6rtymjyck53zrcnbgfdfhydsav4eo5unvbdvm3pmf4bw3koshhe6aucu7s42e',\n",
    "            'https://www.imdb.com/title/tt4154796/reviews/_ajax?ref_=undefined&paginationKey=n7xuwpm666gur3l2mdeqeipgfeu4igje2ddbe4j3j6k5wwkhannlqydycubrkyylejwxjqkimbqno',\n",
    "            'https://www.imdb.com/title/tt4154796/reviews/_ajax?ref_=undefined&paginationKey=az3ru5k5fum4io3vcr3hikw2jlprbekdc4nzeghgsr3wx5dbgrqd7ic7gy2chbnujf6akdv4vez6q',\n",
    "            'https://www.imdb.com/title/tt4154796/reviews/_ajax?ref_=undefined&paginationKey=tshcvtkrl7jr46yrcte6ov5bozo6oxjhs266rm3znz7gzrugvahpghqxhcvn5fkroqtstevkya53y',\n",
    "        ]\n",
    "\n",
    "        for url in urls:\n",
    "            yield scrapy.Request(url=url,callback=self.parse)\n",
    "            \n",
    "    def parse(self, response):\n",
    "\n",
    "        containers = response.css(\"div.review-container\")\n",
    "        \n",
    "        for container in containers:\n",
    "            review_date = container.css(\"span.review-date::text\").get()\n",
    "            review_title = container.css(\"a::text\").get()\n",
    "            review = container.xpath('//div[@class = \"content\"]//div//text()').extract_first()\n",
    "            temp_cont = container.css(\"div.display-name-date\")\n",
    "            reviewer_name = temp_cont.css(\"a::text\").get()\n",
    "            tmp_cont = container.css(\"span.rating-other-user-rating\")\n",
    "            tmp_cont = tmp_cont.css(\"span\")[1]\n",
    "            rating = tmp_cont.css(\"span::text\").get()\n",
    "            \n",
    "            yield{\n",
    "                \"name\":reviewer_name,\n",
    "                \"date\":review_date,\n",
    "                \"title\":review_title,\n",
    "                \"review\":review,\n",
    "                \"rating\":rating,\n",
    "            }\n",
    "            \n",
    "      \n"
   ]
  },
  {
   "cell_type": "code",
   "execution_count": null,
   "metadata": {},
   "outputs": [],
   "source": []
  }
 ],
 "metadata": {
  "kernelspec": {
   "display_name": "Python 3",
   "language": "python",
   "name": "python3"
  },
  "language_info": {
   "codemirror_mode": {
    "name": "ipython",
    "version": 3
   },
   "file_extension": ".py",
   "mimetype": "text/x-python",
   "name": "python",
   "nbconvert_exporter": "python",
   "pygments_lexer": "ipython3",
   "version": "3.6.6"
  }
 },
 "nbformat": 4,
 "nbformat_minor": 2
}
